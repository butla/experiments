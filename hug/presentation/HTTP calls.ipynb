{
 "cells": [
  {
   "cell_type": "code",
   "execution_count": 1,
   "metadata": {
    "collapsed": false
   },
   "outputs": [
    {
     "name": "stdout",
     "output_type": "stream",
     "text": [
      "\u001b[34mHTTP\u001b[39;49;00m/\u001b[34m1.0\u001b[39;49;00m \u001b[34m200\u001b[39;49;00m \u001b[36mOK\u001b[39;49;00m\r\n",
      "\u001b[36mDate\u001b[39;49;00m: \u001b[33mSun, 20 Nov 2016 22:12:51 GMT\u001b[39;49;00m\r\n",
      "\u001b[36mServer\u001b[39;49;00m: \u001b[33mWSGIServer/0.2 CPython/3.5.2\u001b[39;49;00m\r\n",
      "\u001b[36mcontent-length\u001b[39;49;00m: \u001b[33m14\u001b[39;49;00m\r\n",
      "\u001b[36mcontent-type\u001b[39;49;00m: \u001b[33mapplication/json\u001b[39;49;00m\r",
      "\r\n",
      "\r",
      "\r\n",
      "\u001b[33m\"Hello world!\"\u001b[39;49;00m\r\n",
      "\r\n"
     ]
    }
   ],
   "source": [
    "!http :8000"
   ]
  },
  {
   "cell_type": "code",
   "execution_count": null,
   "metadata": {
    "collapsed": true
   },
   "outputs": [],
   "source": []
  }
 ],
 "metadata": {
  "kernelspec": {
   "display_name": "Python 3",
   "language": "python",
   "name": "python3"
  },
  "language_info": {
   "codemirror_mode": {
    "name": "ipython",
    "version": 3
   },
   "file_extension": ".py",
   "mimetype": "text/x-python",
   "name": "python",
   "nbconvert_exporter": "python",
   "pygments_lexer": "ipython3",
   "version": "3.5.2"
  }
 },
 "nbformat": 4,
 "nbformat_minor": 1
}
