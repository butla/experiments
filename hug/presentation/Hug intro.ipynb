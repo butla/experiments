{
 "cells": [
  {
   "cell_type": "markdown",
   "metadata": {},
   "source": [
    "* szybkie definiowanie funkcji do prototypowania serwisów\n",
    "  * może być używany zamiast Flaska albo Bottle do małych rzeczy\n",
    "  * oparte o Falcona (performance)\n",
    "  * Falcon fajny, pewnie słyszeliście tu, czy hug za bardzo nie ogranicza?\n",
    "* Definiowanie typów inputów, outputów\n",
    "* directoves/requires/tranformations\n",
    "* ustawianie i czytanie headerów\n",
    "* Tworzenie poważnych aplikacji z testami, walidacją wejścia. Odpalanie produkcyjne huga. Autoryzacja\n",
    "* automatyczna dokumentacja (czy to Swagger?) i wersjonowanie API\n",
    "* Jak zrobić w Falconie to, co moglibyśmy zrobić w Hugu?"
   ]
  },
  {
   "cell_type": "markdown",
   "metadata": {},
   "source": [
    "# Ideologia\n",
    "* Tylko Python3\n",
    "* Pisz kod raz, udostępniaj przez wiele interfejsów\n",
    "  * HTTP\n",
    "  * CLI\n",
    "  * Zwykły kod Pythona"
   ]
  },
  {
   "cell_type": "code",
   "execution_count": 13,
   "metadata": {
    "collapsed": true
   },
   "outputs": [],
   "source": [
    "#app.py\n",
    "import hug\n",
    "\n",
    "@hug.get('/')\n",
    "def hello():\n",
    "    return 'Hello world!'"
   ]
  },
  {
   "cell_type": "code",
   "execution_count": null,
   "metadata": {
    "collapsed": true
   },
   "outputs": [],
   "source": [
    "!hug -f app.py"
   ]
  },
  {
   "cell_type": "code",
   "execution_count": 14,
   "metadata": {
    "collapsed": false
   },
   "outputs": [
    {
     "data": {
      "text/plain": [
       "'Hello world!'"
      ]
     },
     "execution_count": 14,
     "metadata": {},
     "output_type": "execute_result"
    }
   ],
   "source": [
    "hello()"
   ]
  },
  {
   "cell_type": "code",
   "execution_count": 15,
   "metadata": {
    "collapsed": false
   },
   "outputs": [],
   "source": [
    "#app_cli.py\n",
    "import hug\n",
    "\n",
    "@hug.cli()\n",
    "@hug.get('/')\n",
    "def hello():\n",
    "    return 'Hello world!'"
   ]
  },
  {
   "cell_type": "code",
   "execution_count": 10,
   "metadata": {
    "collapsed": true
   },
   "outputs": [
    {
     "name": "stdout",
     "output_type": "stream",
     "text": [
      "\n",
      "/#######################################################################\\\n",
      "          `.----``..-------..``.----.\n",
      "         :/:::::--:---------:--::::://.\n",
      "        .+::::----##/-/oo+:-##----:::://\n",
      "        `//::-------/oosoo-------::://.       ##    ##  ##    ##    #####\n",
      "          .-:------./++o/o-.------::-`   ```  ##    ##  ##    ##  ##\n",
      "             `----.-./+o+:..----.     `.:///. ########  ##    ## ##\n",
      "   ```        `----.-::::::------  `.-:::://. ##    ##  ##    ## ##   ####\n",
      "  ://::--.``` -:``...-----...` `:--::::::-.`  ##    ##  ##   ##   ##    ##\n",
      "  :/:::::::::-:-     `````      .:::::-.`     ##    ##    ####     ######\n",
      "   ``.--:::::::.                .:::.`\n",
      "         ``..::.                .::         EMBRACE THE APIs OF THE FUTURE\n",
      "             ::-                .:-\n",
      "             -::`               ::-                   VERSION 2.2.0\n",
      "             `::-              -::`\n",
      "              -::-`           -::-\n",
      "\\########################################################################/\n",
      "\n",
      " Copyright (C) 2016 Timothy Edmund Crosley\n",
      " Under the MIT License\n",
      "\n",
      "\n",
      "Serving on port 8000...\n",
      "127.0.0.1 - - [22/Nov/2016 23:33:42] \"GET / HTTP/1.1\" 200 14\n",
      "^C\n",
      "Traceback (most recent call last):\n",
      "  File \"/home/butla/.virtualenvs/hug/bin/hug\", line 11, in <module>\n",
      "    sys.exit(development_runner.hug.interface.cli())\n",
      "  File \"/home/butla/.virtualenvs/hug/lib/python3.5/site-packages/hug/interface.py\", line 463, in __call__\n",
      "    result = self.interface(**pass_to_function)\n",
      "  File \"/home/butla/.virtualenvs/hug/lib/python3.5/site-packages/hug/interface.py\", line 117, in __call__\n",
      "    return __hug_internal_self._function(*args, **kwargs)\n",
      "  File \"/home/butla/.virtualenvs/hug/lib/python3.5/site-packages/hug/development_runner.py\", line 62, in hug\n",
      "    API(api_module).http.serve(port, no_404_documentation)\n",
      "  File \"/home/butla/.virtualenvs/hug/lib/python3.5/site-packages/hug/api.py\", line 242, in serve\n",
      "    httpd.serve_forever()\n",
      "  File \"/usr/lib/python3.5/socketserver.py\", line 232, in serve_forever\n",
      "    ready = selector.select(poll_interval)\n",
      "  File \"/usr/lib/python3.5/selectors.py\", line 376, in select\n",
      "    fd_event_list = self._poll.poll(timeout)\n",
      "KeyboardInterrupt\n"
     ]
    }
   ],
   "source": [
    "!hug -f app_cli.py"
   ]
  },
  {
   "cell_type": "code",
   "execution_count": 16,
   "metadata": {
    "collapsed": false
   },
   "outputs": [
    {
     "name": "stdout",
     "output_type": "stream",
     "text": [
      "Hello world!\r\n"
     ]
    }
   ],
   "source": [
    "!hug -f app_cli.py -c hello"
   ]
  },
  {
   "cell_type": "code",
   "execution_count": null,
   "metadata": {
    "collapsed": true
   },
   "outputs": [],
   "source": []
  }
 ],
 "metadata": {
  "kernelspec": {
   "display_name": "Python 3",
   "language": "python",
   "name": "python3"
  },
  "language_info": {
   "codemirror_mode": {
    "name": "ipython",
    "version": 3
   },
   "file_extension": ".py",
   "mimetype": "text/x-python",
   "name": "python",
   "nbconvert_exporter": "python",
   "pygments_lexer": "ipython3",
   "version": "3.5.2"
  }
 },
 "nbformat": 4,
 "nbformat_minor": 1
}
