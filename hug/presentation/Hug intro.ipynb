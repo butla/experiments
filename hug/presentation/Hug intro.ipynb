{
 "cells": [
  {
   "cell_type": "markdown",
   "metadata": {},
   "source": [
    "* szybkie definiowanie funkcji do prototypowania serwisów\n",
    "  * może być używany zamiast Flaska albo Bottle do małych rzeczy\n",
    "  * oparte o Falcona (performance)\n",
    "* Definiowanie typów inputów, outputów\n",
    "* ustawianie i czytanie headerów\n",
    "* Tworzenie poważnych aplikacji z testami\n",
    "* wersjonowanie API\n",
    "* automatyczna dokumentacja (czy to Swagger?)"
   ]
  },
  {
   "cell_type": "code",
   "execution_count": null,
   "metadata": {
    "collapsed": true
   },
   "outputs": [],
   "source": [
    "#app.py\n",
    "import hug\n",
    "\n",
    "@hug.get('/')\n",
    "def hello():\n",
    "    return 'Hello world!'"
   ]
  }
 ],
 "metadata": {
  "kernelspec": {
   "display_name": "Python 3",
   "language": "python",
   "name": "python3"
  },
  "language_info": {
   "codemirror_mode": {
    "name": "ipython",
    "version": 3
   },
   "file_extension": ".py",
   "mimetype": "text/x-python",
   "name": "python",
   "nbconvert_exporter": "python",
   "pygments_lexer": "ipython3",
   "version": "3.5.2"
  }
 },
 "nbformat": 4,
 "nbformat_minor": 1
}
